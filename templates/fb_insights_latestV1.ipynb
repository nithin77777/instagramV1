{
 "cells": [
  {
   "cell_type": "code",
   "execution_count": 1,
   "id": "e769b7c0-4407-4de1-a62c-4c453acc63d3",
   "metadata": {},
   "outputs": [],
   "source": [
    "import pandas as pd"
   ]
  },
  {
   "cell_type": "code",
   "execution_count": 1,
   "id": "198c54a3-a5a1-4cb2-8900-fa1782732678",
   "metadata": {},
   "outputs": [],
   "source": []
  },
  {
   "cell_type": "code",
   "execution_count": 1,
   "id": "1751673d-fc9c-4a29-8de9-3d99c659b723",
   "metadata": {},
   "outputs": [],
   "source": []
  },
  {
   "cell_type": "code",
   "execution_count": 2,
   "id": "5e8335fa-3645-4e0b-9231-9afb28666618",
   "metadata": {},
   "outputs": [
    {
     "data": {
      "text/plain": "'\\nhttps://developers.facebook.com/docs/marketing-api/reference/ads-insights/\\n'"
     },
     "execution_count": 2,
     "metadata": {},
     "output_type": "execute_result"
    }
   ],
   "source": [
    "'''\n",
    "https://developers.facebook.com/docs/marketing-api/reference/ads-insights/\n",
    "'''"
   ]
  },
  {
   "cell_type": "markdown",
   "source": [
    "## AD-SET COMBINATION INSIGHTS"
   ],
   "metadata": {
    "collapsed": false
   }
  },
  {
   "cell_type": "code",
   "execution_count": 32,
   "id": "59a47bcd-044c-4913-81bf-b8590ff2c593",
   "metadata": {},
   "outputs": [
    {
     "name": "stdout",
     "output_type": "stream",
     "text": [
      "[<AdsInsights> {\n",
      "    \"account_currency\": \"INR\",\n",
      "    \"clicks\": \"26\",\n",
      "    \"conversion_rate_ranking\": \"UNKNOWN\",\n",
      "    \"cost_per_action_type\": [\n",
      "        {\n",
      "            \"action_type\": \"link_click\",\n",
      "            \"value\": \"14.781739\"\n",
      "        },\n",
      "        {\n",
      "            \"action_type\": \"onsite_conversion.messaging_block\",\n",
      "            \"value\": \"339.98\"\n",
      "        },\n",
      "        {\n",
      "            \"action_type\": \"onsite_conversion.messaging_first_reply\",\n",
      "            \"value\": \"37.775556\"\n",
      "        },\n",
      "        {\n",
      "            \"action_type\": \"onsite_conversion.messaging_conversation_started_7d\",\n",
      "            \"value\": \"37.775556\"\n",
      "        },\n",
      "        {\n",
      "            \"action_type\": \"post_engagement\",\n",
      "            \"value\": \"14.781739\"\n",
      "        },\n",
      "        {\n",
      "            \"action_type\": \"page_engagement\",\n",
      "            \"value\": \"14.781739\"\n",
      "        }\n",
      "    ],\n",
      "    \"cost_per_unique_click\": \"13.5992\",\n",
      "    \"cost_per_unique_inline_link_click\": \"14.781739\",\n",
      "    \"cpc\": \"13.076154\",\n",
      "    \"cpm\": \"47.938522\",\n",
      "    \"cpp\": \"54.747182\",\n",
      "    \"ctr\": \"0.36661\",\n",
      "    \"date_start\": \"2022-12-19\",\n",
      "    \"date_stop\": \"2023-01-17\",\n",
      "    \"engagement_rate_ranking\": \"UNKNOWN\",\n",
      "    \"frequency\": \"1.142029\",\n",
      "    \"impressions\": \"7092\",\n",
      "    \"inline_link_click_ctr\": \"0.324309\",\n",
      "    \"inline_link_clicks\": \"23\",\n",
      "    \"inline_post_engagement\": \"23\",\n",
      "    \"optimization_goal\": \"Unknown Optimization Goal\",\n",
      "    \"quality_ranking\": \"UNKNOWN\",\n",
      "    \"reach\": \"6210\",\n",
      "    \"spend\": \"339.98\",\n",
      "    \"website_ctr\": [\n",
      "        {\n",
      "            \"action_type\": \"link_click\",\n",
      "            \"value\": \"0.324309\"\n",
      "        }\n",
      "    ]\n",
      "}]\n"
     ]
    }
   ],
   "source": [
    "\n",
    "from facebook_business.adobjects.adset import AdSet\n",
    "from facebook_business.adobjects.adsinsights import AdsInsights\n",
    "from facebook_business.api import FacebookAdsApi\n",
    "\n",
    "access_token = 'EAArzIaDdM60BAF8sgFZApO9C1ZCK72BOA2HCG9lDcK3ZCZBBznzagQ3uEI4TghlZBWmVbqWlhe26f3QytuvWVGQhnsa0TpBtFZCmR13dtyHyapiaoXBfneYDRIe6tFTmhjgXBcZCKmNaMpjZB0A4199vyZAF1Q2nlQHOOTI2zn5MJTmeAuVypxibZAT9XMCTNZA6gjdgorxburPm8MKL9JZA59fi'\n",
    "app_secret = 'f0237c5b16c45b6dd80cc50f9f36d6c1'\n",
    "app_id = '3082075525428141'\n",
    "ids = \"act_1823690511319599\"\n",
    "FacebookAdsApi.init(access_token=access_token)\n",
    "# cpc in fields --> average cost per click\n",
    "# cpm --> average cost of 1000 impressions\n",
    "# cpp --> The average cost to reach 1,000 people.\n",
    "# ctr --> The percentage of times people saw your ad and performed a click (overall)\n",
    "# date_start --> The start date for your data. This is controlled by the date range you've selected (If not it follows limitations set by facebook).\n",
    "# date_stop --> The end date for your data. This is controlled by the date range you've selected (If not it follows limitations set by facebook).\n",
    "# engagement_rate_ranking --> A ranking of your ad's expected engagement rate. Engagement includes all clicks, likes, comments and shares.\n",
    "# frequency --> The average number of times each person saw your ad. This metric is estimated.\n",
    "# inline_link_click_ctr --> The percentage of time people saw your ads and performed an inline link click.\n",
    "# inline_link_clicks --> The number of clicks on links to select destinations or experiences, on or off Facebook-owned properties.\n",
    "# inline_post_engagement --> The total number of actions that people take involving your ads. Inline post engagements use a fixed 1-day-click attribution window.\n",
    "# optimization_goal --> The optimization goal you selected for your ad or ad set. Your optimization goal reflects what you want to optimize for the ads.\n",
    "# quality_ranking --> A ranking of your ad's perceived quality. [based on feedback and podst-click experience].\n",
    "# reach --> The number of people who saw your ads at least once. Reach is different from impressions, which may include multiple views of your ads by the same people.\n",
    "# video_30_sec_watched_actions --> The number of times your video played for at least 30 seconds, or for nearly its total length if it's shorter than 30 seconds. For each impression of a video, we'll count video views separately and exclude any time spent replaying the video.\n",
    "# video_avg_time_watched_actions --> The average time a video was played, including any time.\n",
    "# website_ctr --> The percentage of times people saw your ad and performed a link click.\n",
    "# website_purchase_roas -->\n",
    "\n",
    "fields= ['impressions','account_currency','adset_id','adset_name','campaign_id','clicks','conversion_rate_ranking',\n",
    "         'cost_per_action_type','cost_per_unique_click','cost_per_unique_inline_link_click','cpc','cpm','cpp','ctr'\n",
    "         ,'dda_results','engagement_rate_ranking','frequency','full_view_reach',\n",
    "         'full_view_impressions','inline_link_click_ctr','inline_link_clicks','inline_post_engagement', 'instant_experience_clicks_to_open',\n",
    "         'optimization_goal','mobile_app_purchase_roas','outbound_clicks','outbound_clicks_ctr','purchase_roas',\n",
    "         'qualifying_question_qualify_answer_rate','reach','quality_ranking','spend','video_30_sec_watched_actions',\n",
    "        'video_avg_time_watched_actions', 'website_ctr','website_purchase_roas','age_targeting','created_time']\n",
    "total_pb = ['total_postbacks_detailed']\n",
    "params = { 'breakdown': 'publisher_platform','default_summary':'true'}\n",
    "\n",
    "fb_insights = AdSet(ids).get_insights(fields=fields,params=params)\n",
    "print(fb_insights)\n",
    "\n"
   ]
  },
  {
   "cell_type": "markdown",
   "source": [
    "## Getting All Campaign Id's:"
   ],
   "metadata": {
    "collapsed": false
   }
  },
  {
   "cell_type": "code",
   "execution_count": 33,
   "id": "b105ee4a-04fb-4597-aae8-11b05d2dfe8d",
   "metadata": {},
   "outputs": [
    {
     "name": "stdout",
     "output_type": "stream",
     "text": [
      "[<Campaign> {\n",
      "    \"id\": \"23852588930270572\"\n",
      "}, <Campaign> {\n",
      "    \"id\": \"23852588885640572\"\n",
      "}]\n"
     ]
    }
   ],
   "source": [
    "from facebook_business.adobjects.adaccount import AdAccount\n",
    "my_account = AdAccount('act_1823690511319599')#23852588930330572\n",
    "campaigns = my_account.get_campaigns()\n",
    "print(campaigns)\n",
    "# print(my_account)"
   ]
  },
  {
   "cell_type": "markdown",
   "source": [
    "## Campaign ID: 23852588930270572"
   ],
   "metadata": {
    "collapsed": false
   }
  },
  {
   "cell_type": "code",
   "execution_count": 36,
   "outputs": [
    {
     "name": "stdout",
     "output_type": "stream",
     "text": [
      "[<AdsInsights> {\n",
      "    \"account_currency\": \"INR\",\n",
      "    \"campaign_id\": \"23852588930270572\",\n",
      "    \"clicks\": \"7\",\n",
      "    \"conversion_rate_ranking\": \"UNKNOWN\",\n",
      "    \"cost_per_action_type\": [\n",
      "        {\n",
      "            \"action_type\": \"link_click\",\n",
      "            \"value\": \"4.381429\"\n",
      "        },\n",
      "        {\n",
      "            \"action_type\": \"onsite_conversion.messaging_first_reply\",\n",
      "            \"value\": \"6.134\"\n",
      "        },\n",
      "        {\n",
      "            \"action_type\": \"onsite_conversion.messaging_conversation_started_7d\",\n",
      "            \"value\": \"6.134\"\n",
      "        },\n",
      "        {\n",
      "            \"action_type\": \"post_engagement\",\n",
      "            \"value\": \"4.381429\"\n",
      "        },\n",
      "        {\n",
      "            \"action_type\": \"page_engagement\",\n",
      "            \"value\": \"4.381429\"\n",
      "        }\n",
      "    ],\n",
      "    \"cost_per_unique_click\": \"4.381429\",\n",
      "    \"cost_per_unique_inline_link_click\": \"4.381429\",\n",
      "    \"cpc\": \"4.381429\",\n",
      "    \"cpm\": \"26.32618\",\n",
      "    \"cpp\": \"26.950791\",\n",
      "    \"created_time\": \"2023-01-09\",\n",
      "    \"ctr\": \"0.600858\",\n",
      "    \"date_start\": \"2023-01-11\",\n",
      "    \"date_stop\": \"2023-01-17\",\n",
      "    \"engagement_rate_ranking\": \"UNKNOWN\",\n",
      "    \"frequency\": \"1.023726\",\n",
      "    \"impressions\": \"1165\",\n",
      "    \"inline_link_click_ctr\": \"0.600858\",\n",
      "    \"inline_link_clicks\": \"7\",\n",
      "    \"inline_post_engagement\": \"7\",\n",
      "    \"optimization_goal\": \"Unknown Optimization Goal\",\n",
      "    \"quality_ranking\": \"UNKNOWN\",\n",
      "    \"reach\": \"1138\",\n",
      "    \"spend\": \"30.67\",\n",
      "    \"website_ctr\": [\n",
      "        {\n",
      "            \"action_type\": \"link_click\",\n",
      "            \"value\": \"0.600858\"\n",
      "        }\n",
      "    ]\n",
      "}]\n"
     ]
    }
   ],
   "source": [
    "\n",
    "from facebook_business.adobjects.adaccount import AdAccount\n",
    "\n",
    "my_account = AdAccount('23852588930270572')  #23852588930330572\n",
    "params = { 'breakdown': 'publisher_platform','default_summary':'true','date_preset':'last_7d'}\n",
    "\n",
    "# insights_ad = my_account1.get_ads()\n",
    "insights_ad1 = my_account.get_insights(params=params,fields=fields)\n",
    "\n",
    "print(insights_ad1)"
   ],
   "metadata": {
    "collapsed": false
   }
  },
  {
   "cell_type": "markdown",
   "source": [
    "## Campaign ID : 23852588885640572"
   ],
   "metadata": {
    "collapsed": false
   }
  },
  {
   "cell_type": "code",
   "execution_count": 37,
   "outputs": [
    {
     "name": "stdout",
     "output_type": "stream",
     "text": [
      "[<AdsInsights> {\n",
      "    \"account_currency\": \"INR\",\n",
      "    \"campaign_id\": \"23852588885640572\",\n",
      "    \"clicks\": \"0\",\n",
      "    \"conversion_rate_ranking\": \"UNKNOWN\",\n",
      "    \"cpm\": \"1538.888889\",\n",
      "    \"cpp\": \"1598.076923\",\n",
      "    \"created_time\": \"2023-01-09\",\n",
      "    \"ctr\": \"0\",\n",
      "    \"date_start\": \"2023-01-11\",\n",
      "    \"date_stop\": \"2023-01-17\",\n",
      "    \"engagement_rate_ranking\": \"UNKNOWN\",\n",
      "    \"frequency\": \"1.038462\",\n",
      "    \"impressions\": \"27\",\n",
      "    \"optimization_goal\": \"Unknown Optimization Goal\",\n",
      "    \"quality_ranking\": \"UNKNOWN\",\n",
      "    \"reach\": \"26\",\n",
      "    \"spend\": \"41.55\"\n",
      "}]\n"
     ]
    }
   ],
   "source": [
    "\n",
    "from facebook_business.adobjects.adaccount import AdAccount\n",
    "\n",
    "my_account = AdAccount('23852588885640572')  #23852588930330572\n",
    "params = { 'breakdown': 'publisher_platform','default_summary':'true','date_preset':'last_7d'}\n",
    "\n",
    "insights_ad2 = my_account.get_insights(params=params,fields=fields)\n",
    "\n",
    "print(insights_ad2)"
   ],
   "metadata": {
    "collapsed": false
   }
  },
  {
   "cell_type": "code",
   "execution_count": null,
   "outputs": [],
   "source": [],
   "metadata": {
    "collapsed": false
   }
  },
  {
   "cell_type": "code",
   "execution_count": null,
   "outputs": [],
   "source": [],
   "metadata": {
    "collapsed": false
   }
  },
  {
   "cell_type": "code",
   "execution_count": null,
   "outputs": [],
   "source": [],
   "metadata": {
    "collapsed": false
   }
  },
  {
   "cell_type": "code",
   "execution_count": null,
   "outputs": [],
   "source": [],
   "metadata": {
    "collapsed": false
   }
  },
  {
   "cell_type": "code",
   "execution_count": null,
   "outputs": [],
   "source": [],
   "metadata": {
    "collapsed": false
   }
  },
  {
   "cell_type": "code",
   "execution_count": null,
   "outputs": [],
   "source": [],
   "metadata": {
    "collapsed": false
   }
  },
  {
   "cell_type": "code",
   "execution_count": null,
   "outputs": [],
   "source": [],
   "metadata": {
    "collapsed": false
   }
  },
  {
   "cell_type": "code",
   "execution_count": null,
   "outputs": [],
   "source": [],
   "metadata": {
    "collapsed": false
   }
  },
  {
   "cell_type": "code",
   "execution_count": null,
   "outputs": [],
   "source": [],
   "metadata": {
    "collapsed": false
   }
  },
  {
   "cell_type": "code",
   "execution_count": 74,
   "id": "a577df30-28ef-4347-a76f-f6562b6bd1a5",
   "metadata": {},
   "outputs": [
    {
     "data": {
      "text/plain": "Empty DataFrame\nColumns: []\nIndex: []",
      "text/html": "<div>\n<style scoped>\n    .dataframe tbody tr th:only-of-type {\n        vertical-align: middle;\n    }\n\n    .dataframe tbody tr th {\n        vertical-align: top;\n    }\n\n    .dataframe thead th {\n        text-align: right;\n    }\n</style>\n<table border=\"1\" class=\"dataframe\">\n  <thead>\n    <tr style=\"text-align: right;\">\n      <th></th>\n    </tr>\n  </thead>\n  <tbody>\n  </tbody>\n</table>\n</div>"
     },
     "execution_count": 74,
     "metadata": {},
     "output_type": "execute_result"
    }
   ],
   "source": [
    "# collectedInsights = pd.DataFrame(insights_ad1)\n",
    "# df1=pd.DataFrame( insights_ad2)\n",
    "# df=pd.concat([collectedInsights,df1])\n",
    "# df"
   ]
  }
 ],
 "metadata": {
  "kernelspec": {
   "display_name": "Python 3 (ipykernel)",
   "language": "python",
   "name": "python3"
  },
  "language_info": {
   "codemirror_mode": {
    "name": "ipython",
    "version": 3
   },
   "file_extension": ".py",
   "mimetype": "text/x-python",
   "name": "python",
   "nbconvert_exporter": "python",
   "pygments_lexer": "ipython3",
   "version": "3.7.15"
  }
 },
 "nbformat": 4,
 "nbformat_minor": 5
}
